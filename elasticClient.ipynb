{
 "metadata": {
  "name": "",
  "signature": "sha256:f7b6121a7789acae6cdc320081cb92566f6383bfb87907369a8fb5cced89446d"
 },
 "nbformat": 3,
 "nbformat_minor": 0,
 "worksheets": [
  {
   "cells": [
    {
     "cell_type": "code",
     "collapsed": false,
     "input": [
      "import elasticsearch\n",
      "import requests\n",
      "\n",
      "def addDocument(row,indexName,collumns):\n",
      "    try:\n",
      "        from elasticsearch import ElasticSearch\n",
      "        es = ElasticSearch([{'host':'10.0.2.86','port':9200}])\n",
      "    except Exception as e:\n",
      "        from elasticsearch import Elasticsearch\n",
      "        es = Elasticsearch([{'host':'10.0.2.86','port':9200}])\n",
      "    data={}\n",
      "    i=-1\n",
      "    for col in collumns.keys():\n",
      "        i+=1\n",
      "        content = row[i]\n",
      "        if type(content)== list :\n",
      "            content = ' '.join(row[i])\n",
      "        data[col]=content\n",
      "    return es.index(index =indexName, body = data, doc_type ='emr')\n",
      "    \n",
      "class ElasticSearchClient(object):\n",
      "    def __init__(self):\n",
      "        self.ip = '10.0.2.86'\n",
      "        self.port = 9200\n",
      "        self.es = elasticsearch.Elasticsearch([{'host': self.ip, 'port': self.port}]) \n",
      "    \n",
      "    def get_indexes(self):\n",
      "        return self.es.indices.get_aliases().keys()\n",
      "    \n",
      "    def create_index(self,indexName='default', shards=1, replicas=0, synonyms=[',']):\n",
      "        if self.es.indices.exists(indexName):\n",
      "            print(\"deleting '%s' index...\" % (indexName))\n",
      "            res = self.es.indices.delete(index = indexName)\n",
      "            print(\" response: '%s'\" % (res))\n",
      "        request_body = {\n",
      "            \"settings\" : {\n",
      "                \"number_of_shards\": shards,\n",
      "                \"number_of_replicas\": replicas,\n",
      "                \"analysis\": {\n",
      "                      \"filter\": {\n",
      "                        \"my_synonym_filter\": {\n",
      "                          \"type\": \"synonym\", \n",
      "                          \"synonyms\": synonyms #[ \"british,english\", \"queen,monarch\"]\n",
      "                        }\n",
      "                      },\n",
      "                      \"analyzer\": {\n",
      "                        \"my_synonyms\": {\n",
      "                          \"tokenizer\": \"standard\",\n",
      "                          \"filter\": [\n",
      "                            \"lowercase\",\n",
      "                            \"my_synonym_filter\" \n",
      "                          ]\n",
      "                        }\n",
      "                      }\n",
      "                }\n",
      "            }\n",
      "        }\n",
      "        print(\"creating '%s' index...\" %(indexName))\n",
      "        res = self.es.indices.create(index = indexName, body = request_body)\n",
      "        print(\" response: '%s'\" % (res))\n",
      "\n",
      "    def delete_index(self, indexName='defualt'):\n",
      "        if self.es.indices.exists(indexName):\n",
      "            print(\"deleting '%s' index...\" % (indexName))\n",
      "            res = self.es.indices.delete(index = indexName)\n",
      "            print(\" response: '%s'\" % (res))    \n",
      "        else:\n",
      "            print 'Index '+indexName+\" doesn't exist yet...\"\n",
      "    \n",
      "    def add_documents_from_df(self,indexName='default',df=None):\n",
      "        header = df.schema.fields\n",
      "        collumns={}\n",
      "        for field in header:\n",
      "            collumns[field.name]={\"type\":\"string\"}\n",
      "        cnt = df.map(lambda row: addDocument(row,indexName,collumns)).count()\n",
      "        print 'Processed '+str(cnt)+' rows'\n",
      "        \n",
      "    def add_documents_from_files(self,indexName='default',files=None):\n",
      "        cnt = len(files.first())\n",
      "        collumns={}\n",
      "        for i in range(0,cnt):\n",
      "            collumns['col'+str(i)]={\"type\":\"string\"}\n",
      "        cnt = files.map(lambda row: addDocument(row,indexName,collumns)).count()\n",
      "        print 'Processed '+str(cnt)+' rows'"
     ],
     "language": "python",
     "metadata": {},
     "outputs": [],
     "prompt_number": 46
    },
    {
     "cell_type": "heading",
     "level": 3,
     "metadata": {},
     "source": [
      "Tests/usage examples for ElasticSearchClient"
     ]
    },
    {
     "cell_type": "heading",
     "level": 4,
     "metadata": {},
     "source": [
      "- create/delete index"
     ]
    },
    {
     "cell_type": "code",
     "collapsed": false,
     "input": [
      "ec = ElasticSearchClient()\n",
      "print ec.get_indexes()\n",
      "ec.create_index(indexName='test1',shards=2,replicas=3)\n",
      "ec.delete_index(indexName='blabka')\n",
      "ec.delete_index(indexName='test1')\n",
      "ec.es"
     ],
     "language": "python",
     "metadata": {},
     "outputs": []
    },
    {
     "cell_type": "code",
     "collapsed": false,
     "input": [
      "import pyspark\n",
      "import xpatterns.configuration \n",
      "from xpatterns.analytics.dal import DAL\n",
      "sc = pyspark.SparkContext(master = xpatterns.configuration.XPATTERNS_ANALYTICS_SPARK_MASTER)\n",
      "hc = pyspark.sql.HiveContext(sc)\n",
      "new_notes = hc.sql(\"select noteid,concepts from strata.tmp_concepts2\")\n",
      "new_notes.show()"
     ],
     "language": "python",
     "metadata": {},
     "outputs": [
      {
       "output_type": "stream",
       "stream": "stdout",
       "text": [
        "noteid               concepts            \n",
        "hdfs://10.0.2.85:... ArrayBuffer(sepsi...\n",
        "hdfs://10.0.2.85:... ArrayBuffer(q wav...\n",
        "hdfs://10.0.2.85:... ArrayBuffer(osteo...\n",
        "hdfs://10.0.2.85:... ArrayBuffer(pleur...\n",
        "hdfs://10.0.2.85:... ArrayBuffer(fib, ...\n",
        "hdfs://10.0.2.85:... ArrayBuffer(antib...\n",
        "hdfs://10.0.2.85:... ArrayBuffer(sit, ...\n",
        "hdfs://10.0.2.85:... ArrayBuffer(sepsi...\n",
        "hdfs://10.0.2.85:... ArrayBuffer(flove...\n",
        "hdfs://10.0.2.85:... ArrayBuffer(pleur...\n"
       ]
      }
     ],
     "prompt_number": 2
    },
    {
     "cell_type": "heading",
     "level": 4,
     "metadata": {},
     "source": [
      "- create index from DataFrame"
     ]
    },
    {
     "cell_type": "code",
     "collapsed": false,
     "input": [
      "from xpatterns.elasticsearch.elasticsearchclient import ElasticSearchClient\n",
      "ec = ElasticSearchClient()\n",
      "ec.create_index(indexName='tmp_concepts2',synonyms=['a,b,c,d','a,f,g,h'])\n",
      "ec.add_documents_from_df(indexName='tmp_concepts2',df=new_notes)\n",
      "#ec.delete_index(indexName='tmp_concepts2')"
     ],
     "language": "python",
     "metadata": {},
     "outputs": [
      {
       "output_type": "stream",
       "stream": "stdout",
       "text": [
        "deleting 'tmp_concepts2' index...\n",
        " response: '{u'acknowledged': True}'"
       ]
      },
      {
       "output_type": "stream",
       "stream": "stdout",
       "text": [
        "\n",
        "creating 'tmp_concepts2' index...\n",
        " response: '{u'acknowledged': True}'"
       ]
      },
      {
       "output_type": "stream",
       "stream": "stdout",
       "text": [
        "\n",
        "Processed 10 rows"
       ]
      },
      {
       "output_type": "stream",
       "stream": "stdout",
       "text": [
        "\n"
       ]
      }
     ],
     "prompt_number": 55
    },
    {
     "cell_type": "heading",
     "level": 4,
     "metadata": {},
     "source": [
      "- create index from text files"
     ]
    },
    {
     "cell_type": "code",
     "collapsed": false,
     "input": [
      "def normalize(s):\n",
      "    res = s.lower().replace('.',' ').replace(',',' ').replace(':',' ').replace('_','').replace('*','').replace('|',' ')\n",
      "    res = res.replace(';',' ').replace('0','').replace('1','').replace('2','').replace('3','').replace('4','').replace('5','')\n",
      "    res = res.replace('6','').replace('7','').replace('8','').replace('9','').replace('?',' ').replace('@',' ')\n",
      "    return res\n",
      "\n",
      "#/user/ubuntu/datasets/demoUser/mimic2-dummy-merged/clean/MIMIC2-merged/\n",
      "textfile = sc.textFile('/user/ubuntu/datasets/demoUser/mimic2-dummy-1000notes/clean/*')"
     ],
     "language": "python",
     "metadata": {},
     "outputs": []
    },
    {
     "cell_type": "code",
     "collapsed": false,
     "input": [
      "from xpatterns.elasticsearch.elasticsearchclient import ElasticSearchClient\n",
      "ec = ElasticSearchClient()\n",
      "rdd = sc.wholeTextFiles('/user/ubuntu/datasets/demoUser/mimic2-dummy-1000notes/clean/')\n",
      "ec.create_index(indexName='tmp_concepts_files',synonyms=['a,b,c,d','a,f,g,h'])\n",
      "ec.add_documents_from_files(indexName='tmp_conceptsfiles',files=rdd)"
     ],
     "language": "python",
     "metadata": {},
     "outputs": [
      {
       "output_type": "stream",
       "stream": "stdout",
       "text": [
        "deleting 'tmp_concepts_files' index...\n",
        " response: '{u'acknowledged': True}'"
       ]
      },
      {
       "output_type": "stream",
       "stream": "stdout",
       "text": [
        "\n",
        "creating 'tmp_concepts_files' index...\n",
        " response: '{u'acknowledged': True}'"
       ]
      },
      {
       "output_type": "stream",
       "stream": "stdout",
       "text": [
        "\n",
        "Processed 994 rows"
       ]
      },
      {
       "output_type": "stream",
       "stream": "stdout",
       "text": [
        "\n"
       ]
      }
     ],
     "prompt_number": 53
    },
    {
     "cell_type": "heading",
     "level": 4,
     "metadata": {},
     "source": [
      "- search"
     ]
    },
    {
     "cell_type": "code",
     "collapsed": false,
     "input": [
      "ec.es.search(index='tmp_conceptsfiles', q='sepsis')"
     ],
     "language": "python",
     "metadata": {},
     "outputs": [
      {
       "metadata": {},
       "output_type": "pyout",
       "prompt_number": 51,
       "text": [
        "{u'_shards': {u'failed': 0, u'successful': 5, u'total': 5},\n",
        " u'hits': {u'hits': [{u'_id': u'AVTa9jORwVEOLD4U8CAl',\n",
        "    u'_index': u'tmp_conceptsfiles',\n",
        "    u'_score': 0.2724844,\n",
        "    u'_source': {u'col0': u'hdfs://ip-10-0-2-85.ec2.internal:8020/user/ubuntu/datasets/demoUser/mimic2-dummy-1000notes/clean/3325-merged.txt',\n",
        "     u'col1': u'Neonatology Attending\\nFt infant referred to NICU by Dr. Aleem for sepsis evaluation.\\nInfant born at 39 weeks to 30 yo G4P3 A+, Ab-, GBS+, HBsAg-, RPR-NR woman.  Antepartum remarkble for cerclage placement at 19 weeks for h/o cervical incompetence.  Admitted in labor.  AROM.  Received intrapartum antibiotics 2 hours PTD.  No maternal fever.  HSVD with Apgars 9, 9.\\nExam remarkable for well-appearing term infant in no distress with vital signs as noted, soft AF, nl facies, intact palate, no gfr, clear breath sounds, no murmur, flat soft n-t abdomen without hsm, nl phallus, testes in scrotum, stable hips, nl perfusion, nl tone/activity.\\nTerm asymptomatic newborn with sepsis risk- maternal GBS colonization- partially attenuated by incomplete intrapartum antibiotic prophylaxis.  Will check cbc, blood culture.  No further evaluation, treatment unless has abnormal cbc, positive blood culture, or development of clinical signs of infection.\\nTo newborn nursery after specimen obtained.  In-house coverage by CNS.\\nPrimary provider is Tosha Delarosa GULF SHORES.\\n|\\n|\\nNursing/Sepsis Evaluation\\nInfant is a FT male infant admitted from L&D for sepsis eval.  Mom GBS + and received antibx <4hrs PTD.  See attending note for complete hx.  Admitted to NICU ~1515 w/\\nVS stable.  97.9R, HR 120, RR 60, BP 70/47 x61.  CBC/diff and blood cx sent.  Baby meds given.  LSC/=.  No murmur. \\nDS=57.  Void x1.  Plan to transfer to newborn nursery.\\n'},\n",
        "    u'_type': u'emr'},\n",
        "   {u'_id': u'AVTa9jKEwVEOLD4U8B_9',\n",
        "    u'_index': u'tmp_conceptsfiles',\n",
        "    u'_score': 0.2724844,\n",
        "    u'_source': {u'col0': u'hdfs://ip-10-0-2-85.ec2.internal:8020/user/ubuntu/datasets/demoUser/mimic2-dummy-1000notes/clean/3305-merged.txt',\n",
        "     u'col1': u'|\\nNeonatology NP Triage Note\\nThis is a 37 5-1 week gestation male infant, born by SVD under epirdural anesthesia to a 26 yo G 2 P 12-27 woman\\nPNS: O+/AboRI/RPRNR/HbsAg-/GBS+\\nPregnancy uncomplicated. Mother with history of irregular heart rate=evaulated by cardiology-no intervention.\\nROM 9 minutes PTD. Mother received antibiotics 3 hours PTD. no intrapartum fever or other sepsis risk factors.\\nInfant emerged vigorous. Apgars 9 at one and five minutes\\nPE: vigorous, nondysmorphic infant AFOF, sutures slightly over riding, clavicles intact, palate intact, respirations unlabored, lungs clear/=, RRR, ll/Vl holosystolic murmur across precordium, pink and well perfused,  liver edge ar RCM, abdomen soft, nondistended, active bowel sounds, symmetric tone and reflexes, hips stable, spine without dimple.\\nDS 58\\nImp Asymptomatic newborn with sepsis risk\\n    Murmur most like transitional\\nPlan CBC with diff, blood culture, no antibiotics unless blood work or clinical  presentation suggest sepsis.\\nEvaluate murmur if persists or infant sympromatic.\\nTRansfer to NBN.\\n|\\nNPN\\nBaby boy Turnow was admitted to the NICU for r/o sepsis blood work. ( NNP/MD notes for details). He is active and vigorous, breathing comfortably. VSS. + Murmur audible. A CBC and blood cx were drawn and sent. Baby care was given. D/s was 58. (Infant breast fed in the DR.).\\nP: Sent infant to the regular newborn nursery. Check results of labs.\\n'},\n",
        "    u'_type': u'emr'},\n",
        "   {u'_id': u'AVTa9iAhwVEOLD4U8B4x',\n",
        "    u'_index': u'tmp_conceptsfiles',\n",
        "    u'_score': 0.27034724,\n",
        "    u'_source': {u'col0': u'hdfs://ip-10-0-2-85.ec2.internal:8020/user/ubuntu/datasets/demoUser/mimic2-dummy-1000notes/clean/3582-merged.txt',\n",
        "     u'col1': u\"NICU Admission/TRIAGE Note\\nAsked by Dr. Mcelravy to evaluate this term female for sepsis.\\n2700 gm product of an uncomplicated pregnancy born to a 17 year old G1 P0 woman. EDC 2007-8-14. Prenatal Screens: O+/antibody negative/Rubella immune/RPR non-reactive/HepBSAg negative/GBS negative. Spontaneous onset of labor. Maternal fever to 100.6 in labor, no other sepsis risk factors. IV intrapartum antibiotics started 1 hour prior to delivery. Infant born by SVD, Apgars 9, 9. Admitted to NICU at 1 1/2 hours of life. Color pink in room air; infant non-dysmorphic, alert, vigorous; breath sounds clear/=; no murmur; abdomen soft; 3 vessel cord; normal female genitalia; symmetric tone and reflexes. CBC and blood culutre obtained. Glucose=88.\\nIMPRESSION: well-appearing term infant. Only sepsis risk factor maternal fever.\\nPLAN: Observe infant in Newborn Nursery.\\nIf CBC abnormal, will treat infant with IV antibiotics pending culture results.\\nMother plans to put baby up for adoption. Did not speak with her per wishes of L&D staff who explained sepsis evaluation procedure.\\n|\\n|\\nNeonatology Attending\\nI have reviewed history and examined infant.  \\nFull details of history in NNP Buck's note.  2700 gram 37+ week female born to a 17 yo primip with negative PNS including GBS.  Planned adoption.  Uncomplicated pregnancy.  Labor c/b maternal fever only.  Received intrapartum antibiotics 1 hr ptd.  Vaginal delivery.  Apgars 9-1.  Sepsis evaluation done and transferred to RN.\\nExam Term AGA female pink and comfortable in RA, AF soft, flat, nondysmorphic, intact palate, clear bs, no murmur, normal pulses, soft abd, no hsm, normal female genitalia, patent anus, no hip click, no sacral dimple, normal tone and activity, MAE\\nHct 64 plt 260 wbc 22.5 (72P/3B/14L/10M/1E)\\nA:  Asymptomatic FT AGA female at risk for sepsis secondary to maternal fever.  CBC benign.\\nP:  Routine care in RN\\n    Follow BC results\\n    SS involvement\\n|\\nNURSING TRIAGE NOTE\\nINFANT ADMITTED TO NICU FOR SEPSIS EVALUATION. CBC & BLOOD CULTURES DRAWN, D-STICK 88. VSS, BS CL&=, NO AUDIBLE MURMER. COLOR PINK AND WELL PERFUSED. BABY MEDS GIVEN AS ORDERED. TRANSFERED TO NURSERY.\\n\"},\n",
        "    u'_type': u'emr'},\n",
        "   {u'_id': u'AVTa9icWwVEOLD4U8B7b',\n",
        "    u'_index': u'tmp_conceptsfiles',\n",
        "    u'_score': 0.2641514,\n",
        "    u'_source': {u'col0': u'hdfs://ip-10-0-2-85.ec2.internal:8020/user/ubuntu/datasets/demoUser/mimic2-dummy-1000notes/clean/3170-merged.txt',\n",
        "     u'col1': u'Neonatology Attending Admission/Triage Note\\nAsked to evaluate this patient by Dr. Stanojevic for sepsis risk factors. Baby is a 3500gm term male infant delivered at 1649PM today.\\nDelivery was by NSVD.  Apgars 9,9.  \\nPNS - O pos, Ab neg, HBSAg neg, RPR NR, RI, GBS positive.\\nROM 1 hour and 29 minutes PTD.\\nNo maternal fever noted.\\nMother was treated with antibiotics but only 1 hour and 49 minutes PTD.\\nPE - Baby is  well appearing breathing comfortably in RA.\\nVS - T 99.1 HR 148 RR 40 BP 65/34 44\\nHEENT - AF soft and flat, palate intact\\nLungs clear and equal.  CVS - no murmur, S1 S2 normal intensity, perfusion good.\\nAbd - soft with normal bowel sounds\\nGU - normal male, testes palpable bilaterally\\nNeuro - tone excellent\\nDS - 55\\nAssessment/plan:\\nWell appearing term male infant with increased risk of GBS sepsis because of maternal colonization.\\nWill check cbc diff and plat and blood culture.\\nWill pursue further work-up and cover with antibiotics if cbc abnormal, any clinical signs of sepsis or cultures positive.\\nParents updated on plans by Mccally, NNP. \\n|\\nAdmission Note\\nBaby boy Browing admitted to NICU from L&D for sepsis eval.  Baby was  and perfused on arrival.  VSS, no resp distress.  CBC w/diff and blcx sent.  DStick=55.  Baby cares given.  Plans to transfer infant to Newborn Nursery.\\n|\\n'},\n",
        "    u'_type': u'emr'},\n",
        "   {u'_id': u'AVTa9jKHwVEOLD4U8B_-',\n",
        "    u'_index': u'tmp_conceptsfiles',\n",
        "    u'_score': 0.2620796,\n",
        "    u'_source': {u'col0': u'hdfs://ip-10-0-2-85.ec2.internal:8020/user/ubuntu/datasets/demoUser/mimic2-dummy-1000notes/clean/3306-merged.txt',\n",
        "     u'col1': u'NPN \\nBaby girl Lang was admitted to the NICU for r/o sepsis blood work r/t a maternal temp of 100.4 ( NNP note for details.) Infant is active and alert and BF in L & D (per report). Her diaper appears wet. VSS. A CBC and blood cx were drawn and sent. D/s was 68. Infant has a pustular rash over her upper chest (NNP KS Bellon observed and noted.) Baby care was given.\\nP: Transfer infant to the regular newborn nursery. Check results of labs. \\n|\\nNeonatology NP Note\\nThis is a full term female infant born by SVD under epidural anesthesia to a 31 yo G 4 P 0-1 woman.\\nPNS: O+/Ab-/RI/RPRNR/HbsAg-/GBS-\\nPregnancy remarkable for maternal methylene tetrahydrofolate reductase gene mutation. mother on lovenox until 36 weeks gestation.\\nMaternal intrapartum t max 100.4. No intrapartum antibiotics given. No other sepsis risk factors.\\nInfant emerged  vigorous. Apgars 9 at one and five minutes.\\nPE; vigorous, term appearing newborn, AFOF, mild molding, palate intact, ears posteriorly rotated, neck without masses, clavicles intact, respirations unlabored,lungs clear/=, RRl no murmur, pink and well perfused, abdomen soft, nondistended, normal term female genitalia, normal creases and digits, stable hip exam, spine without dimple, symmetric tone and reflexes.\\nImp\\nAsymptomatic newborn with sepsis risk factors\\nPlan\\nCbc with diff, blood cx. No antibiotics unless blood work or clinical presentation suggest sepsis.\\nTRansfer to NBN.\\n|\\n|\\nNeonatology Attending\\nAsked by Dr. Argumedo to evaluate infant for sepsis risk factors.\\nHistory as detailed above by Renita Pagon, NNP. In short, only sepsis risk factor of maternal fever to 100.4. No other risks (negative for GBS, maternal fever, PROM, fetal tachycardia).\\nOn exam: Infant comfortably resting under radiant warmer. +Sig molding, AFSF. Eyes deferred (ointment). Ears normally set. Palate intact. Clavicles intact. Neck supple. Lungs CTA, =. CV RRR, no murmur. Good peripheral pulses. Abd soft, +BS, no masses. Nl female genitalia. Hips stable. No sacral anomalies. Patent anus. Ext pink and well perfused. MAEW. \\nImpression/Plan: Full -term, well-appearing infant being evaluated due to maternal fever. No other sepsis risks. Agree with obtaining CBC w diff and blood cx. Will hold abx for now. Consider if labs abnormal or clinical course changes.\\n'},\n",
        "    u'_type': u'emr'},\n",
        "   {u'_id': u'AVTa9hhYwVEOLD4U8B1v',\n",
        "    u'_index': u'tmp_conceptsfiles',\n",
        "    u'_score': 0.25841397,\n",
        "    u'_source': {u'col0': u'hdfs://ip-10-0-2-85.ec2.internal:8020/user/ubuntu/datasets/demoUser/mimic2-dummy-1000notes/clean/3469-merged.txt',\n",
        "     u'col1': u'Neonatology Attending Triage Note\\nAsked by Dr. Cubbage to evaluate infant for sepsis risk. Infant is a 36 3-29 week, 2775 gm male newborn who was born by cesaren section to a 38 y.o. G1P0 mother. Prenatal screens: O+, antibody negative, HepBsAg negative, RPR NR, RI, GBS unknown. Pregnancy uncomplicated. \\nPresented in spontaneous labor. Maternal Tmax 100.8. No prolonged rupture of membranes. No fetal tachycardia. Intrapartum abx for 11 hours PTD. Cesaren section for \"failure to descend\". Apgars 8,9.\\nOn exam:\\nVS per CareView\\nResting comfortable. AFSF. Small caput. Eyes deferred. Normal set ears. Neck soft and supple. Clavicles intact. Lungs CTA, =. No GFR. CV RRR, no murmur. 2+FP. Abd soft, +BS, no HSM. GU nl male, testes down bilat. Patent anus. No sacral anomalies. Hips stable. Warm, pink and well perfused. Though + acrocyanosis. Nl tone, strength and activity.\\nImpression/Plan:\\nPreterm, AGA male newborn, for sepsis evaluation due to maternal fever and unknown GBS screening. Well-appearing. No other risks identified. Will check CBC w diff and bld cx. Will hold abx unless labs abnormal or clinical status concerning for sepsis. \\nDue to GA< 37 weeks, qualifies for car seat screening prior to discharge from hospital.\\nTo return to NBN once sepsis evaluation complete. pediatrics: Hospital GRANDVIEW Pediatrics, HANNIBAL. \\n|\\n|\\nNPN\\nBaby Gadison admitted to NICU for sepsis evaluation. Vital signs stable upon admission. CBC & BC sent. D/S stable.\\n(Please see flowsheet for details.) Attending MD Alberto\\nKrampitz. Infant transferred back to NBN.\\n'},\n",
        "    u'_type': u'emr'},\n",
        "   {u'_id': u'AVTa9h8NwVEOLD4U8B4L',\n",
        "    u'_index': u'tmp_conceptsfiles',\n",
        "    u'_score': 0.25841397,\n",
        "    u'_source': {u'col0': u'hdfs://ip-10-0-2-85.ec2.internal:8020/user/ubuntu/datasets/demoUser/mimic2-dummy-1000notes/clean/3561-merged.txt',\n",
        "     u'col1': u'NICU Attending Triage Note\\nAgree with above hx, data, PEx, A/KC  Mauro Piurkowski. This asx term infant has perinatal risk factors for sepsis (maternal fever to 100.7 - no maternal fever, PROM, GBS-, + intrapartum antibiotic prophylaxis)), PEx benign in detial.  Screened for sepsis with CBC and blood cx, WBC 21.1, diff still pending. Will treat with antibiotics only if lab results or clinical course concerning for sepsis.\\n|\\nNPN\\nInfant transferred from L&D for septic w/u- see above note for maternal history.  VSS- see carevue.  CBC and blood cultures drawn.  D stick- 60.  Vit K, e-mycin eye ointment given.  Infant transferred to 5 nursery.  \\n|\\n|\\nNeonatology NP Note\\nThis is a full term female infant born by SVD under epidural anesthesia to a 34 yo G 3 P 12-29 woman.\\nPNS; O-/Ab-/RI/RPRNR/HbsAg-/GBS-\\nPregnancy complicated by thrombocytopenia(?etiology)\\nPeripartum course remarkable for maternal t max 100.7\\nMother received antibiotics 2 1/2 hours PTD.\\nROM 11 hours PTD of MSF.\\nInfant emerged vigorous, apgars 8 at one minute and 9 at five minutes\\nB.W. 2975 grams\\nB.L. 19 inches\\nPE vigorous, nondsymorphic term appearing infant, AFOF, sutures approximated, palate intact, clavicles intact, respirations unlabored, lungs clear/=, RRr, no murmur, pink and well perfused, femoral pulses +2, abdomen soft, nontender and nondistened, normal term female genitalia, stable hip exam, spine straight and without dimple, normal digits and creases, symmetric tone and reflexes, + suck , grasp, and moro.\\nDS 60\\nImp Asymptomatic newborn with sepsis risk\\nPlan CBC with diff, blood c\\nNo antibiotics unless blood work or clinical presentation suggest sepsis.\\nTRansfer to NBN.\\n'},\n",
        "    u'_type': u'emr'},\n",
        "   {u'_id': u'AVTa9jLnwVEOLD4U8CAR',\n",
        "    u'_index': u'tmp_conceptsfiles',\n",
        "    u'_score': 0.25506857,\n",
        "    u'_source': {u'col0': u'hdfs://ip-10-0-2-85.ec2.internal:8020/user/ubuntu/datasets/demoUser/mimic2-dummy-1000notes/clean/3837-merged.txt',\n",
        "     u'col1': u'Neonatology\\nTerm newborn sent to NICU for eval of sepsis risk as manifest by maternal GBS colonixzation in settings of maternal abx rx < 4 h PTD. No other sepsis risk factors. Noted. Prenatal screens complete and unremarkable.\\nOn exam pink active non-dysmorphic. Skinb w/o lesions. HEENT WNL. Cor nl s1s2 w/o murmurs. Abdomen benign. Lungs clear. Hips normal. SPine intact. Neuro non-focal and age appropriate.\\nA- Well apeparing term newborn with slightly increased sepsis risk.\\nP CBC diff BC.\\n  No abx unless cbc abnormal or sx develop.\\n  Transfer to NN.\\n  Parents aware of status and plan.\\n  \\n|\\nNursing Note 1350h\\nBaby  Bekerman was brought to the NICU for a sepsis evaluation d/t mother GBS pos. status and antibiotics given less than 4hrs. prior to delivery. Infant arrived to NICU pink and vigorous. Temp 98.9R, HR 130, RR 44, BP 87/46 M 60. Infant has stooled. Blood glucose at 2hrs=69. Following glucose protocol for LGA infant. A CBC and Blood culture were sent and are pending. Erythromycin and Vit K given. Parents up to visit, mother held son, plans to breast feed.  \\n|\\n'},\n",
        "    u'_type': u'emr'},\n",
        "   {u'_id': u'AVTa9iTWwVEOLD4U8B6Y',\n",
        "    u'_index': u'tmp_conceptsfiles',\n",
        "    u'_score': 0.251125,\n",
        "    u'_source': {u'col0': u'hdfs://ip-10-0-2-85.ec2.internal:8020/user/ubuntu/datasets/demoUser/mimic2-dummy-1000notes/clean/3639-merged.txt',\n",
        "     u'col1': u'|\\nNICU TRIAGE/ADMISSION\\nAsked by Dr. Burlette to evaluate this term female for sepsis.\\n3650 gm product of a term gestation pregnancy born to a 45 year old G7 P2->3 woman. EDC 1982-11-14. Pregnancy reportedly uncomplicated. Prenatal Screens: O-/antibody negative/RPR non-reactive/Rubella immune/HepBSAg negative/GBS positive. ROM less than 24 hours prior to delivery. No maternal fever or other sepsis risk factors. Intrapartum antibiotics less than 4 hours prior to delivery. Meconium stained amniotic fluid. Infant born by SVD, cried at delivery. Apgars 8, 9. Admitted to NICU at 1 1/2 hours of life. Infant vigorous, alert, pink in room air; breath sounds clear/=; no murmur; abdoment full and soft; normal female genitalia; spine intact; symmetric tone and reflexes. CBC and blood culture obtained. Glucose=73.\\nIMPRESSION: well-appearing term female. No sepsis risk factors other than maternal GBS colonization, less that 4 hours intrapartum prophylaxis.\\nPLAN: Observe in Newborn Nusery.\\nIf CBC abnormal, will treat infant with IV antibiotics pending culture results.\\nMother aware of our impression and plan of care.\\nPrimay pediatrician Dr. Isis Weisenborn.\\n|\\nNICU Admit Note\\nBaby girl Hering came to NICU for sepsis evaluation d/t maternal GBS+ and < 4hrs of Abx.  Infant with vigorous cry, pink with some facial bruising.  VSS.  DS 73.  CBC with diff and blood culture sent.  Newborn meds given.  Infant transferred to 6 nursery.\\n'},\n",
        "    u'_type': u'emr'},\n",
        "   {u'_id': u'AVTa9jK2wVEOLD4U8CAH',\n",
        "    u'_index': u'tmp_conceptsfiles',\n",
        "    u'_score': 0.251125,\n",
        "    u'_source': {u'col0': u'hdfs://ip-10-0-2-85.ec2.internal:8020/user/ubuntu/datasets/demoUser/mimic2-dummy-1000notes/clean/3312-merged.txt',\n",
        "     u'col1': u'Neonatology\\nPatient is term newborn sent to NICU for eval of sepsis risk by Dr Norn. Risk manifest by maternal fever to 101 during labor. Received abx 2 h ptd. Mother GBS -,  other sepsis risks noted.\\nPrenetal screens complete and unremarkable.\\nOn exam pionk active non-dysmorphic infant. Well perfused and staurated in RA. o skin leisons. Cpor nl s1s2 w/o m. Lungs clear. Comfortable.\\nAbdomen bneign.\\nNeuro non-focal and age appropriate.\\nHips normal. Spine intact. Anus patent.\\nA- well apeparing term infant with inc sepsis risk.\\nP CBC diff BC\\n  Abx for 48 h r/o pending cx results and clinical course.\\n  Transfer to NN when first dose of abx in\\n  Parents aware of status and plan\\n|\\nNursing Note\\nBaby brought to NICU for sepsis eval. Baby meds given. CBC with diff and blood cx done. Heplock started in left foot, flushes easily. 1st dose of Gent and Ampicillin given. Baby stable for transfer to NBN.\\n|\\n'},\n",
        "    u'_type': u'emr'}],\n",
        "  u'max_score': 0.2724844,\n",
        "  u'total': 326},\n",
        " u'timed_out': False,\n",
        " u'took': 4}"
       ]
      }
     ],
     "prompt_number": 51
    }
   ],
   "metadata": {}
  }
 ]
}